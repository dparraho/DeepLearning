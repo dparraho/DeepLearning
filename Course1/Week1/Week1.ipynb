{
 "cells": [
  {
   "cell_type": "markdown",
   "metadata": {
    "toc-hr-collapsed": true,
    "toc-nb-collapsed": true
   },
   "source": [
    "# Welcome"
   ]
  },
  {
   "cell_type": "markdown",
   "metadata": {},
   "source": [
    "Courses in this sequence (Specialization)\n",
    "\n",
    "1. Neural Networks and Deep Learning\n",
    "2. Improving Deep Neural Networks: Hyperparameter tuning, Regularization and Optimization\n",
    "3. Structuring your Machine Learning project (train, dev, test)\n",
    "- The way you split your data into train, development or dev also called holdout cross-validation sets and test sets, has changed in the era of deep learning.\n",
    "4. Convolutional Neural Networks (CNNs)\n",
    "5. Natural Language processing: Building sequence models."
   ]
  },
  {
   "cell_type": "markdown",
   "metadata": {},
   "source": [
    "# What is a Neural Network"
   ]
  },
  {
   "cell_type": "markdown",
   "metadata": {
    "toc-hr-collapsed": true,
    "toc-nb-collapsed": true
   },
   "source": [
    "Relu (Rectified linear unit)\n",
    "\n",
    "Density connected\n",
    "\n",
    "Supervised learning\n",
    "\n",
    "\n",
    "<img align='left' src='imagenes/house_prediction.PNG' width='400'/>"
   ]
  },
  {
   "cell_type": "markdown",
   "metadata": {},
   "source": [
    "# Supervised Learning with Neural Networks "
   ]
  },
  {
   "cell_type": "markdown",
   "metadata": {},
   "source": [
    "1. Structured Data\n",
    "- House pricing, ad -user info\n",
    "\n",
    "2. Unstructured data\n",
    "- Audio, Image, Text\n",
    "\n",
    "\n",
    "<img align='left' src='Imagenes/applications_profit.PNG' width='400'/>\n",
    "\n",
    "\n",
    "<img align='left' src='Imagenes/Neural_architectures.PNG' width='400'/>\n",
    "\n",
    "<img align='left' src='Imagenes/types_data.PNG' width='400'/>"
   ]
  },
  {
   "cell_type": "markdown",
   "metadata": {},
   "source": [
    "# Why is Deep Learning taking off"
   ]
  },
  {
   "cell_type": "markdown",
   "metadata": {},
   "source": [
    "plateaus"
   ]
  },
  {
   "cell_type": "markdown",
   "metadata": {},
   "source": [
    "# "
   ]
  },
  {
   "cell_type": "markdown",
   "metadata": {},
   "source": [
    " "
   ]
  },
  {
   "cell_type": "markdown",
   "metadata": {},
   "source": []
  }
 ],
 "metadata": {
  "kernelspec": {
   "display_name": "Python 3",
   "language": "python",
   "name": "python3"
  },
  "language_info": {
   "codemirror_mode": {
    "name": "ipython",
    "version": 3
   },
   "file_extension": ".py",
   "mimetype": "text/x-python",
   "name": "python",
   "nbconvert_exporter": "python",
   "pygments_lexer": "ipython3",
   "version": "3.7.4"
  }
 },
 "nbformat": 4,
 "nbformat_minor": 4
}
