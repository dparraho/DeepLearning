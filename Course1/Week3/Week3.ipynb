{
 "cells": [
  {
   "cell_type": "markdown",
   "metadata": {},
   "source": [
    "# Neural Networks Overview"
   ]
  },
  {
   "cell_type": "markdown",
   "metadata": {},
   "source": [
    "$z^{[1]} = W^{[1]}X + b^{[1]}$\n",
    "\n",
    "$\\alpha^{[1]} = \\sigma(z^{[1]})$\n",
    "\n",
    "$z^{[2]} = W^{[2]}a^{[1]} + b^{[2]}$\n",
    "\n",
    "$\\alpha^{[2]} = \\sigma(z^{[2]})$\n",
    "\n",
    "$L(\\hat{y}=\\alpha^{[2]}, y)$"
   ]
  },
  {
   "cell_type": "markdown",
   "metadata": {},
   "source": [
    "## Neural Network Representation"
   ]
  },
  {
   "cell_type": "markdown",
   "metadata": {},
   "source": [
    "we dont count input layer. A neural network with 1 hidden layer is called \"2 layer NN\""
   ]
  },
  {
   "cell_type": "markdown",
   "metadata": {},
   "source": [
    "## Computing a Neural Network's Output"
   ]
  },
  {
   "cell_type": "markdown",
   "metadata": {},
   "source": [
    "## Vectorizing across multiple examples"
   ]
  },
  {
   "cell_type": "markdown",
   "metadata": {},
   "source": [
    "## Explanation for Vectorized Implementation"
   ]
  },
  {
   "cell_type": "markdown",
   "metadata": {},
   "source": [
    "## Activation functions"
   ]
  },
  {
   "cell_type": "markdown",
   "metadata": {},
   "source": [
    "$$tanh = \\frac{e^z-e^{-z}}{e^z + e^{-z}}$$\n",
    "\n",
    "\n",
    "Here's a sigmoid activation function. I will say never use this, except for the output layer, if you are doing binary classification, or maybe almost never use this. And the reason I almost never use this is because the tanh is pretty much strictly superior. So the tanh activation function is this. And then the default, the most commonly used activation function is the ReLU (rectified linear unit)\n",
    "\n",
    "\n",
    "$$\\text{ReLU} \\longrightarrow a = max(0, z)$$\n",
    "\n",
    "One disadvantage of the ReLU is that the derivative is equal to zero, when z is negative. In practice, this works just fine. But there is another version of the ReLU called the leaky ReLU\n",
    "\n",
    "$$\\text{Leaky ReLU} \\longrightarrow a = max(0.01z, z)$$"
   ]
  },
  {
   "cell_type": "code",
   "execution_count": 23,
   "metadata": {},
   "outputs": [
    {
     "data": {
      "text/plain": [
       "<matplotlib.lines.Line2D at 0x112bb230>"
      ]
     },
     "execution_count": 23,
     "metadata": {},
     "output_type": "execute_result"
    },
    {
     "data": {
      "image/png": "[encoded data removed]",
      "text/plain": [
       "<Figure size 432x288 with 1 Axes>"
      ]
     },
     "metadata": {
      "needs_background": "light"
     },
     "output_type": "display_data"
    }
   ],
   "source": [
    "import numpy as np\n",
    "import matplotlib.pyplot as plt\n",
    "%matplotlib inline\n",
    "def tanh(z):\n",
    "    return (np.exp(z)-np.exp(-z))/(np.exp(z)+np.exp(-z))\n",
    "def sigmoid(z):\n",
    "    return 1/(1+np.exp(-z))\n",
    "x = np.linspace(-np.pi, np.pi, 1000)\n",
    "y = tanh(x)\n",
    "\n",
    "plt.plot(x, y)\n",
    "plt.plot(x, sigmoid(x)*2-1)\n",
    "plt.axhline(0, color='k')\n",
    "plt.axvline(0, color='k')"
   ]
  },
  {
   "cell_type": "markdown",
   "metadata": {},
   "source": [
    "## Why do you need non-linear activation functions?"
   ]
  },
  {
   "cell_type": "markdown",
   "metadata": {},
   "source": [
    "## Derivatives of activation functions"
   ]
  },
  {
   "cell_type": "markdown",
   "metadata": {},
   "source": [
    "$$\\frac{d}{dz}(tanh(z)) = 1  - (tanh(z))^{2}$$"
   ]
  },
  {
   "cell_type": "markdown",
   "metadata": {},
   "source": [
    "# Gradient descent for Neural Networks"
   ]
  },
  {
   "cell_type": "markdown",
   "metadata": {},
   "source": [
    "Cost Function \n",
    "\n",
    "$$J(w^{[1]}, b^{[1]}, w^{[2]}, b^{[2]}) = \\frac{1}{m}\\sum_{i=1}^{m}(\\hat{y}, y)$$\n",
    "\n",
    "Forward Propagation\n",
    "\n",
    "$$Z^{[1]} = w^{[1]}X+b^{[1]}$$\n",
    "$$A^{[1]} = g^{[1]}(Z^{[1]})$$\n",
    "\n",
    "$$Z^{[2]} = w^{[2]}A^{[1]}+b^{[2]}$$\n",
    "$$A^{[2]} = g^{[2]}(Z^{[2]})$$\n",
    "\n",
    "\n",
    "\n",
    "Back propagation\n",
    "\n",
    "$$dZ^{[2]} = A^{[2]} - Y$$\n",
    "$$dW{[2]} = \\frac{1}{m}dZ^{[2]}A^{[1]T}$$\n",
    "$$db^{[2]} = \\frac{1}{m}np.sum(dZ^{[2]}, axis=1, keepdims=True)$$\n",
    "$$dZ^{[1]} = w^{[2]T}dZ^{[2]} * g^{[1]'}(Z^{[1]})$$\n",
    "\\* Element wise product\n",
    "$$dW{[1]} = \\frac{1}{m}dZ^{[1]}X^{T}$$\n",
    "$$db^{[1]} = \\frac{1}{m}np.sum(dZ^{[1]}, axis=1, keepdims=True)$$"
   ]
  },
  {
   "cell_type": "code",
   "execution_count": 1,
   "metadata": {},
   "outputs": [
    {
     "data": {
      "text/plain": [
       "(4, 1)"
      ]
     },
     "execution_count": 1,
     "metadata": {},
     "output_type": "execute_result"
    }
   ],
   "source": [
    "import numpy as np\n",
    "A = np.random.randn(4,3)\n",
    "B = np.sum(A, axis = 1, keepdims = True)\n",
    "B.shape"
   ]
  }
 ],
 "metadata": {
  "kernelspec": {
   "display_name": "Python 3",
   "language": "python",
   "name": "python3"
  },
  "language_info": {
   "codemirror_mode": {
    "name": "ipython",
    "version": 3
   },
   "file_extension": ".py",
   "mimetype": "text/x-python",
   "name": "python",
   "nbconvert_exporter": "python",
   "pygments_lexer": "ipython3",
   "version": "3.7.4"
  }
 },
 "nbformat": 4,
 "nbformat_minor": 4
}
